{
 "cells": [
  {
   "cell_type": "markdown",
   "metadata": {},
   "source": [
    "## <font color='darkblue'>Tensor</font>\n",
    "<b><a href='https://pytorch.org/docs/stable/tensors.html'>Tensor</a></b> 是 PyTorch 中重要的資料結構, 可被視為是一個高維陣列. 它可以是一個數 (純量), 一維陣列 (向量), 二維陣列 (矩陣) 或更高維陣列. Tensor 和 numpy 的 ndarrays 類似, 但 Tensor 可以使用 GPU 加速. Tensor 的使用和 numpy 及 MATLAB 的介面十分相似, 透過下面幾個範例可以了解 Tensor 的基本使用方法:"
   ]
  },
  {
   "cell_type": "code",
   "execution_count": 28,
   "metadata": {},
   "outputs": [
    {
     "name": "stdout",
     "output_type": "stream",
     "text": [
      "x1:\n",
      "tensor([[7.0721e+31, 7.3773e+28, 1.0901e+27],\n",
      "        [7.1345e+31, 7.2128e+22, 4.8203e+30],\n",
      "        [3.3219e+12, 3.7870e+12, 9.1776e+02],\n",
      "        [2.8573e+32, 3.2181e+21, 2.7130e-09],\n",
      "        [3.9567e-14, 7.3706e+28, 4.1576e+21]])\n",
      "\n",
      "x2:\n",
      "tensor([[0., 0., 0.],\n",
      "        [0., 0., 0.],\n",
      "        [0., 0., 0.],\n",
      "        [0., 0., 0.],\n",
      "        [0., 0., 0.]], dtype=torch.float64)\n",
      "\n",
      "x3:\n",
      "tensor([[1., 2., 3.],\n",
      "        [4., 5., 6.],\n",
      "        [7., 8., 9.]])\n",
      "\n",
      "x4:\n",
      "tensor([[1., 1., 1.],\n",
      "        [1., 1., 1.],\n",
      "        [1., 1., 1.],\n",
      "        [1., 1., 1.],\n",
      "        [1., 1., 1.]], dtype=torch.float64)\n",
      "\n",
      "x5:\n",
      "tensor([[-1.0447, -1.4295, -2.2646],\n",
      "        [-1.3875, -0.9201, -0.8934],\n",
      "        [-0.5727,  0.6177, -0.2524],\n",
      "        [-0.9369, -0.5688,  0.5641],\n",
      "        [ 1.8066, -0.7115, -0.5504]])\n",
      "\n"
     ]
    }
   ],
   "source": [
    "import torch as t\n",
    "\n",
    "x1 = t.Tensor(5, 3)  # 建構 5x3 矩陣, 只分配空間並未初始化\n",
    "print('x1:\\n{}\\n'.format(x1))\n",
    "\n",
    "x2 = t.zeros(5, 3, dtype=t.double) # 建構 5x3 矩陣, 並初始化為 0\n",
    "print('x2:\\n{}\\n'.format(x2))\n",
    "\n",
    "x3 = t.Tensor([[1,2,3],[4,5,6],[7,8,9]])  # 直接從資料建構 3x3 矩陣\n",
    "print('x3:\\n{}\\n'.format(x3))\n",
    "\n",
    "# create a tensor based on an existing tensor. \n",
    "# These methods will reuse properties of the input tensor, e.g. dtype, unless new values are provided by user\n",
    "x4 = x2.new_ones(5, 3)\n",
    "print('x4:\\n{}\\n'.format(x4))\n",
    "\n",
    "x5 = t.randn_like(x4, dtype=t.float)    # override dtype!\n",
    "print('x5:\\n{}\\n'.format(x5))"
   ]
  },
  {
   "cell_type": "code",
   "execution_count": 3,
   "metadata": {},
   "outputs": [
    {
     "data": {
      "text/plain": [
       "tensor([[0.0322, 0.3882, 0.4314],\n",
       "        [0.3406, 0.9019, 0.8997],\n",
       "        [0.4141, 0.3662, 0.3030],\n",
       "        [0.4531, 0.8691, 0.7999],\n",
       "        [0.2298, 0.6488, 0.2531]])"
      ]
     },
     "execution_count": 3,
     "metadata": {},
     "output_type": "execute_result"
    }
   ],
   "source": [
    "# 使用 [0,1] 均勻分布隨機初始化 x 陣列\n",
    "x = t.rand(5, 3)\n",
    "x"
   ]
  },
  {
   "cell_type": "code",
   "execution_count": 5,
   "metadata": {},
   "outputs": [
    {
     "name": "stdout",
     "output_type": "stream",
     "text": [
      "torch.Size([5, 3])\n",
      "x.column = 3 or 3\n"
     ]
    }
   ],
   "source": [
    "# 查看 x 的維度\n",
    "print(x.size())\n",
    "\n",
    "# 兩種存取 x 的 column 數目\n",
    "print(\"x.column = {} or {}\".format(x.size()[1], x.size(1)))"
   ]
  },
  {
   "cell_type": "markdown",
   "metadata": {},
   "source": [
    "torch.Size 是 tuple 物件的子類別, 它支援 tuple 的所有操作."
   ]
  },
  {
   "cell_type": "code",
   "execution_count": 8,
   "metadata": {},
   "outputs": [
    {
     "name": "stdout",
     "output_type": "stream",
     "text": [
      "x.Size is tupel? True\n"
     ]
    }
   ],
   "source": [
    "print(\"x.Size is tupel? {}\".format(isinstance(x.size(), tuple)))"
   ]
  },
  {
   "cell_type": "markdown",
   "metadata": {},
   "source": [
    "接著來看 tensor 的幾種簡單數學操作."
   ]
  },
  {
   "cell_type": "code",
   "execution_count": 11,
   "metadata": {},
   "outputs": [
    {
     "name": "stdout",
     "output_type": "stream",
     "text": [
      "y:\n",
      "tensor([[0.4779, 0.6267, 0.0901],\n",
      "        [0.8913, 0.7919, 0.5582],\n",
      "        [0.7278, 0.2964, 0.2430],\n",
      "        [0.2231, 0.9145, 0.1500],\n",
      "        [0.9088, 0.2084, 0.9089]])\n"
     ]
    },
    {
     "data": {
      "text/plain": [
       "tensor([[0.5100, 1.0149, 0.5216],\n",
       "        [1.2318, 1.6938, 1.4579],\n",
       "        [1.1419, 0.6626, 0.5460],\n",
       "        [0.6761, 1.7836, 0.9500],\n",
       "        [1.1386, 0.8572, 1.1619]])"
      ]
     },
     "execution_count": 11,
     "metadata": {},
     "output_type": "execute_result"
    }
   ],
   "source": [
    "y = t.rand(5, 3)\n",
    "print(\"y:\\n{}\".format(y))\n",
    "\n",
    "# 加法的第一種寫法\n",
    "x + y "
   ]
  },
  {
   "cell_type": "code",
   "execution_count": 12,
   "metadata": {},
   "outputs": [
    {
     "data": {
      "text/plain": [
       "tensor([[0.5100, 1.0149, 0.5216],\n",
       "        [1.2318, 1.6938, 1.4579],\n",
       "        [1.1419, 0.6626, 0.5460],\n",
       "        [0.6761, 1.7836, 0.9500],\n",
       "        [1.1386, 0.8572, 1.1619]])"
      ]
     },
     "execution_count": 12,
     "metadata": {},
     "output_type": "execute_result"
    }
   ],
   "source": [
    "# 加法的第二種寫法\n",
    "t.add(x, y)"
   ]
  },
  {
   "cell_type": "code",
   "execution_count": 13,
   "metadata": {},
   "outputs": [
    {
     "data": {
      "text/plain": [
       "tensor([[0.5100, 1.0149, 0.5216],\n",
       "        [1.2318, 1.6938, 1.4579],\n",
       "        [1.1419, 0.6626, 0.5460],\n",
       "        [0.6761, 1.7836, 0.9500],\n",
       "        [1.1386, 0.8572, 1.1619]])"
      ]
     },
     "execution_count": 13,
     "metadata": {},
     "output_type": "execute_result"
    }
   ],
   "source": [
    "# 加法的第三種寫法: 指定結果的輸出目標為 result\n",
    "result = t.Tensor(5, 3)  # 分配空間\n",
    "t.add(x, y, out=result)  # 輸出到 result\n",
    "result"
   ]
  },
  {
   "cell_type": "code",
   "execution_count": 14,
   "metadata": {},
   "outputs": [
    {
     "name": "stdout",
     "output_type": "stream",
     "text": [
      "Original y:\n",
      "tensor([[0.4779, 0.6267, 0.0901],\n",
      "        [0.8913, 0.7919, 0.5582],\n",
      "        [0.7278, 0.2964, 0.2430],\n",
      "        [0.2231, 0.9145, 0.1500],\n",
      "        [0.9088, 0.2084, 0.9089]])\n",
      "\n",
      "y.add(x) got y:\n",
      "tensor([[0.4779, 0.6267, 0.0901],\n",
      "        [0.8913, 0.7919, 0.5582],\n",
      "        [0.7278, 0.2964, 0.2430],\n",
      "        [0.2231, 0.9145, 0.1500],\n",
      "        [0.9088, 0.2084, 0.9089]])\n",
      "\n",
      "y.add_(x) got y:\n",
      "tensor([[0.5100, 1.0149, 0.5216],\n",
      "        [1.2318, 1.6938, 1.4579],\n",
      "        [1.1419, 0.6626, 0.5460],\n",
      "        [0.6761, 1.7836, 0.9500],\n",
      "        [1.1386, 0.8572, 1.1619]])\n",
      "\n"
     ]
    }
   ],
   "source": [
    "print(\"Original y:\\n{}\\n\".format(y))\n",
    "\n",
    "# 第一種加法不改變 y 的內容\n",
    "y.add(x)  # 普通加法, 不改變 y 內容\n",
    "print(\"y.add(x) got y:\\n{}\\n\".format(y))\n",
    "\n",
    "# 第二種加法會改變 y 的內容\n",
    "y.add_(x)  # inplace 加法, 改變 y 內容\n",
    "print(\"y.add_(x) got y:\\n{}\\n\".format(y))"
   ]
  },
  {
   "cell_type": "markdown",
   "metadata": {},
   "source": [
    "<b><font color='darkred'>注意:</font></b> 函數名稱後面帶底線的操作會修改 Tensor 本身."
   ]
  },
  {
   "cell_type": "markdown",
   "metadata": {},
   "source": [
    "## <font color='darkblue'>Supplement </font>\n",
    "* <a href='https://pytorch.org/tutorials/beginner/blitz/tensor_tutorial.html#sphx-glr-beginner-blitz-tensor-tutorial-py'>PyTorch Tutorials >  Deep Learning with PyTorch: A 60 Minute Blitz > What is PyTorch?</a>"
   ]
  }
 ],
 "metadata": {
  "kernelspec": {
   "display_name": "Python 3",
   "language": "python",
   "name": "python3"
  },
  "language_info": {
   "codemirror_mode": {
    "name": "ipython",
    "version": 3
   },
   "file_extension": ".py",
   "mimetype": "text/x-python",
   "name": "python",
   "nbconvert_exporter": "python",
   "pygments_lexer": "ipython3",
   "version": "3.6.7"
  }
 },
 "nbformat": 4,
 "nbformat_minor": 2
}
