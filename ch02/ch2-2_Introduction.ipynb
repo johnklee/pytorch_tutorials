{
 "cells": [
  {
   "cell_type": "markdown",
   "metadata": {},
   "source": [
    "## <font color='darkblue'>Tensor</font>\n",
    "<b><a href='https://pytorch.org/docs/stable/tensors.html'>Tensor</a></b> 是 PyTorch 中重要的資料結構, 可被視為是一個高維陣列. 它可以是一個數 (純量), 一維陣列 (向量), 二維陣列 (矩陣) 或更高維陣列. Tensor 和 numpy 的 ndarrays 類似, 但 Tensor 可以使用 GPU 加速. Tensor 的使用和 numpy 及 MATLAB 的介面十分相似, 透過下面幾個範例可以了解 Tensor 的基本使用方法:"
   ]
  },
  {
   "cell_type": "code",
   "execution_count": 1,
   "metadata": {},
   "outputs": [
    {
     "name": "stdout",
     "output_type": "stream",
     "text": [
      "x1:\n",
      "tensor([[0.0000e+00, 0.0000e+00, 0.0000e+00],\n",
      "        [0.0000e+00, 0.0000e+00, 0.0000e+00],\n",
      "        [0.0000e+00, 0.0000e+00, 0.0000e+00],\n",
      "        [0.0000e+00, 1.8833e-42, 0.0000e+00],\n",
      "        [0.0000e+00, 4.7428e+30, 0.0000e+00]])\n",
      "\n",
      "x2:\n",
      "tensor([[0., 0., 0.],\n",
      "        [0., 0., 0.],\n",
      "        [0., 0., 0.],\n",
      "        [0., 0., 0.],\n",
      "        [0., 0., 0.]], dtype=torch.float64)\n",
      "\n",
      "x3:\n",
      "tensor([[1., 2., 3.],\n",
      "        [4., 5., 6.],\n",
      "        [7., 8., 9.]])\n",
      "\n",
      "x4:\n",
      "tensor([[1., 1., 1.],\n",
      "        [1., 1., 1.],\n",
      "        [1., 1., 1.],\n",
      "        [1., 1., 1.],\n",
      "        [1., 1., 1.]], dtype=torch.float64)\n",
      "\n",
      "x5:\n",
      "tensor([[-1.0995,  0.0781, -0.3726],\n",
      "        [-0.6765, -0.4470, -0.8601],\n",
      "        [ 2.6661, -0.2692,  0.0614],\n",
      "        [ 0.1526, -0.9156,  0.8812],\n",
      "        [ 0.4252, -1.6937,  0.2502]])\n",
      "\n"
     ]
    }
   ],
   "source": [
    "import torch as t\n",
    "\n",
    "x1 = t.Tensor(5, 3)  # 建構 5x3 矩陣, 只分配空間並未初始化\n",
    "print('x1:\\n{}\\n'.format(x1))\n",
    "\n",
    "x2 = t.zeros(5, 3, dtype=t.double) # 建構 5x3 矩陣, 並初始化為 0\n",
    "print('x2:\\n{}\\n'.format(x2))\n",
    "\n",
    "x3 = t.Tensor([[1,2,3],[4,5,6],[7,8,9]])  # 直接從資料建構 3x3 矩陣\n",
    "print('x3:\\n{}\\n'.format(x3))\n",
    "\n",
    "# create a tensor based on an existing tensor. \n",
    "# These methods will reuse properties of the input tensor, e.g. dtype, unless new values are provided by user\n",
    "x4 = x2.new_ones(5, 3)\n",
    "print('x4:\\n{}\\n'.format(x4))\n",
    "\n",
    "x5 = t.randn_like(x4, dtype=t.float)    # override dtype!\n",
    "print('x5:\\n{}\\n'.format(x5))"
   ]
  },
  {
   "cell_type": "code",
   "execution_count": 2,
   "metadata": {},
   "outputs": [
    {
     "data": {
      "text/plain": [
       "tensor([[0.0768, 0.3231, 0.6631],\n",
       "        [0.2417, 0.9487, 0.1596],\n",
       "        [0.5142, 0.7312, 0.8054],\n",
       "        [0.3748, 0.5793, 0.9556],\n",
       "        [0.2079, 0.8428, 0.8458]])"
      ]
     },
     "execution_count": 2,
     "metadata": {},
     "output_type": "execute_result"
    }
   ],
   "source": [
    "# 使用 [0,1] 均勻分布隨機初始化 x 陣列\n",
    "x = t.rand(5, 3)\n",
    "x"
   ]
  },
  {
   "cell_type": "code",
   "execution_count": 3,
   "metadata": {},
   "outputs": [
    {
     "name": "stdout",
     "output_type": "stream",
     "text": [
      "torch.Size([5, 3])\n",
      "x.column = 3 or 3\n"
     ]
    }
   ],
   "source": [
    "# 查看 x 的維度\n",
    "print(x.size())\n",
    "\n",
    "# 兩種存取 x 的 column 數目\n",
    "print(\"x.column = {} or {}\".format(x.size()[1], x.size(1)))"
   ]
  },
  {
   "cell_type": "markdown",
   "metadata": {},
   "source": [
    "torch.Size 是 tuple 物件的子類別, 它支援 tuple 的所有操作."
   ]
  },
  {
   "cell_type": "code",
   "execution_count": 4,
   "metadata": {},
   "outputs": [
    {
     "name": "stdout",
     "output_type": "stream",
     "text": [
      "x.Size is tupel? True\n"
     ]
    }
   ],
   "source": [
    "print(\"x.Size is tupel? {}\".format(isinstance(x.size(), tuple)))"
   ]
  },
  {
   "cell_type": "markdown",
   "metadata": {},
   "source": [
    "接著來看 tensor 的幾種簡單數學操作."
   ]
  },
  {
   "cell_type": "code",
   "execution_count": 5,
   "metadata": {},
   "outputs": [
    {
     "name": "stdout",
     "output_type": "stream",
     "text": [
      "y:\n",
      "tensor([[0.6672, 0.9821, 0.2827],\n",
      "        [0.6092, 0.0570, 0.6994],\n",
      "        [0.3399, 0.8250, 0.9235],\n",
      "        [0.3306, 0.3987, 0.6042],\n",
      "        [0.9472, 0.0945, 0.7959]])\n"
     ]
    },
    {
     "data": {
      "text/plain": [
       "tensor([[0.7440, 1.3052, 0.9458],\n",
       "        [0.8508, 1.0057, 0.8590],\n",
       "        [0.8541, 1.5563, 1.7289],\n",
       "        [0.7055, 0.9780, 1.5598],\n",
       "        [1.1551, 0.9373, 1.6417]])"
      ]
     },
     "execution_count": 5,
     "metadata": {},
     "output_type": "execute_result"
    }
   ],
   "source": [
    "y = t.rand(5, 3)\n",
    "print(\"y:\\n{}\".format(y))\n",
    "\n",
    "# 加法的第一種寫法\n",
    "x + y "
   ]
  },
  {
   "cell_type": "code",
   "execution_count": 6,
   "metadata": {},
   "outputs": [
    {
     "data": {
      "text/plain": [
       "tensor([[0.7440, 1.3052, 0.9458],\n",
       "        [0.8508, 1.0057, 0.8590],\n",
       "        [0.8541, 1.5563, 1.7289],\n",
       "        [0.7055, 0.9780, 1.5598],\n",
       "        [1.1551, 0.9373, 1.6417]])"
      ]
     },
     "execution_count": 6,
     "metadata": {},
     "output_type": "execute_result"
    }
   ],
   "source": [
    "# 加法的第二種寫法\n",
    "t.add(x, y)"
   ]
  },
  {
   "cell_type": "code",
   "execution_count": 7,
   "metadata": {},
   "outputs": [
    {
     "data": {
      "text/plain": [
       "tensor([[0.7440, 1.3052, 0.9458],\n",
       "        [0.8508, 1.0057, 0.8590],\n",
       "        [0.8541, 1.5563, 1.7289],\n",
       "        [0.7055, 0.9780, 1.5598],\n",
       "        [1.1551, 0.9373, 1.6417]])"
      ]
     },
     "execution_count": 7,
     "metadata": {},
     "output_type": "execute_result"
    }
   ],
   "source": [
    "# 加法的第三種寫法: 指定結果的輸出目標為 result\n",
    "result = t.Tensor(5, 3)  # 分配空間\n",
    "t.add(x, y, out=result)  # 輸出到 result\n",
    "result"
   ]
  },
  {
   "cell_type": "code",
   "execution_count": 8,
   "metadata": {},
   "outputs": [
    {
     "name": "stdout",
     "output_type": "stream",
     "text": [
      "Original y:\n",
      "tensor([[0.6672, 0.9821, 0.2827],\n",
      "        [0.6092, 0.0570, 0.6994],\n",
      "        [0.3399, 0.8250, 0.9235],\n",
      "        [0.3306, 0.3987, 0.6042],\n",
      "        [0.9472, 0.0945, 0.7959]])\n",
      "\n",
      "y.add(x) got y:\n",
      "tensor([[0.6672, 0.9821, 0.2827],\n",
      "        [0.6092, 0.0570, 0.6994],\n",
      "        [0.3399, 0.8250, 0.9235],\n",
      "        [0.3306, 0.3987, 0.6042],\n",
      "        [0.9472, 0.0945, 0.7959]])\n",
      "\n",
      "y.add_(x) got y:\n",
      "tensor([[0.7440, 1.3052, 0.9458],\n",
      "        [0.8508, 1.0057, 0.8590],\n",
      "        [0.8541, 1.5563, 1.7289],\n",
      "        [0.7055, 0.9780, 1.5598],\n",
      "        [1.1551, 0.9373, 1.6417]])\n",
      "\n"
     ]
    }
   ],
   "source": [
    "print(\"Original y:\\n{}\\n\".format(y))\n",
    "\n",
    "# 第一種加法不改變 y 的內容\n",
    "y.add(x)  # 普通加法, 不改變 y 內容\n",
    "print(\"y.add(x) got y:\\n{}\\n\".format(y))\n",
    "\n",
    "# 第二種加法會改變 y 的內容\n",
    "y.add_(x)  # inplace 加法, 改變 y 內容\n",
    "print(\"y.add_(x) got y:\\n{}\\n\".format(y))"
   ]
  },
  {
   "cell_type": "markdown",
   "metadata": {},
   "source": [
    "<b><font color='darkred'>注意:</font></b> 函數名稱後面帶底線的操作會修改 Tensor 本身.\n",
    "\n",
    "Tensor 的選取操作與 numpy 類別相似:"
   ]
  },
  {
   "cell_type": "code",
   "execution_count": 9,
   "metadata": {},
   "outputs": [
    {
     "data": {
      "text/plain": [
       "tensor([0.3231, 0.9487, 0.7312, 0.5793, 0.8428])"
      ]
     },
     "execution_count": 9,
     "metadata": {},
     "output_type": "execute_result"
    }
   ],
   "source": [
    "x[:, 1] # 選取每列的第二攔"
   ]
  },
  {
   "cell_type": "markdown",
   "metadata": {},
   "source": [
    "Tensor 還支援很多操作, 包含數學運算, 線性代數, 選擇與切片, 其介面設計與 numpy 極為相似. 更詳細的使用方法會在第三章說明. Tensor 和 numpy 的陣列間的互動操作非常容易且快速. Tensor 不支援的操作可以先轉為 numpy 陣列處理, 之後再轉回 Tensor:"
   ]
  },
  {
   "cell_type": "code",
   "execution_count": 10,
   "metadata": {},
   "outputs": [
    {
     "data": {
      "text/plain": [
       "tensor([1., 1., 1., 1., 1.])"
      ]
     },
     "execution_count": 10,
     "metadata": {},
     "output_type": "execute_result"
    }
   ],
   "source": [
    "a = t.ones(5)  # 新建長度為 5 並初始值為 1\n",
    "a"
   ]
  },
  {
   "cell_type": "code",
   "execution_count": 11,
   "metadata": {},
   "outputs": [
    {
     "data": {
      "text/plain": [
       "array([1., 1., 1., 1., 1.], dtype=float32)"
      ]
     },
     "execution_count": 11,
     "metadata": {},
     "output_type": "execute_result"
    }
   ],
   "source": [
    "b = a.numpy() # Tensor -> Numpy\n",
    "b"
   ]
  },
  {
   "cell_type": "code",
   "execution_count": 12,
   "metadata": {},
   "outputs": [
    {
     "name": "stdout",
     "output_type": "stream",
     "text": [
      "a:\n",
      "[1. 1. 1. 1. 1.]\n",
      "b:\n",
      "tensor([1., 1., 1., 1., 1.], dtype=torch.float64)\n",
      "\n"
     ]
    }
   ],
   "source": [
    "import numpy as np\n",
    "\n",
    "a = np.ones(5)\n",
    "b = t.from_numpy(a)  #  Numpy -> Tensor\n",
    "print(\"a:\\n{}\\nb:\\n{}\\n\".format(a, b))"
   ]
  },
  {
   "cell_type": "markdown",
   "metadata": {},
   "source": [
    "Tensor 和 numpy 物件共用記憶體, 所以他們之間的轉換很快, 而且幾乎不會耗損資源. 這也表示如果其中一個變了, 另一個也會隨之改變:"
   ]
  },
  {
   "cell_type": "code",
   "execution_count": 13,
   "metadata": {},
   "outputs": [
    {
     "name": "stdout",
     "output_type": "stream",
     "text": [
      "a:\n",
      "[2. 2. 2. 2. 2.]\n",
      "b:\n",
      "tensor([2., 2., 2., 2., 2.], dtype=torch.float64)\n",
      "\n"
     ]
    }
   ],
   "source": [
    "b.add_(1)  # 以 _ 結尾的函數是 inplace 操作\n",
    "print(\"a:\\n{}\\nb:\\n{}\\n\".format(a, b))"
   ]
  },
  {
   "cell_type": "markdown",
   "metadata": {},
   "source": [
    "Tensor 可透過 .cuda 方法轉為 GPU 的 Tensor, 進一步享受 GPU 帶來的加速運算:"
   ]
  },
  {
   "cell_type": "code",
   "execution_count": 14,
   "metadata": {},
   "outputs": [
    {
     "name": "stdout",
     "output_type": "stream",
     "text": [
      "z:\n",
      "tensor([[0.8208, 1.6284, 1.6090],\n",
      "        [1.0925, 1.9543, 1.0186],\n",
      "        [1.3683, 2.2875, 2.5343],\n",
      "        [1.0803, 1.5573, 2.5154],\n",
      "        [1.3631, 1.7800, 2.4875]], device='cuda:0')\n"
     ]
    }
   ],
   "source": [
    "# 在不支持 cuda 的機器上, 下一步不會運行\n",
    "if t.cuda.is_available():\n",
    "    x = x.cuda()\n",
    "    y = y.cuda()\n",
    "    z = x + y\n",
    "    print('z:\\n{}'.format(z))"
   ]
  },
  {
   "cell_type": "markdown",
   "metadata": {},
   "source": [
    "在此處可能會發現 GPU 運算對於速度並未提升太多, 這是因為 x 和 y 相加所需運算量太少, 而且將資料從記憶體傳輸到顯示卡記憶體也需要額外的成本. GPU 的優勢需在大規模資料和複雜運算下才能表現出來.\n",
    "\n",
    "## <font color='darkblue'>Autograd: 自動微分</font>\n",
    "深度學習的演算法本質上是透過反向傳播求倒數, PyTorch 的 <b><a href='https://pytorch.org/docs/stable/autograd.html#'>Autograd</a></b> 模組實現此功能. 在 Tensor 上的所有操作, Autograd 都能為它們自動提供微分, 避免手動計算導數的複雜過程. <b><a href='https://pytorch.org/docs/stable/autograd.html#variable-deprecated'>autograd.Variable</a></b> 是 Autograd 中的核心類別, 它簡單封裝了 Tensor, 並支援幾乎所有 Tensor 的操作. Tensor 在被封裝為 Variable 之後, 可以呼叫它的 <font color='blue'>.backward</font> 實現反向傳播"
   ]
  },
  {
   "cell_type": "code",
   "execution_count": 15,
   "metadata": {},
   "outputs": [
    {
     "data": {
      "text/plain": [
       "tensor([[1., 1.],\n",
       "        [1., 1.]], requires_grad=True)"
      ]
     },
     "execution_count": 15,
     "metadata": {},
     "output_type": "execute_result"
    }
   ],
   "source": [
    "from torch.autograd import Variable\n",
    "\n",
    "# 使用 Tensor 新建一個 Variable\n",
    "x = t.ones(2, 2, requires_grad = True)\n",
    "x"
   ]
  },
  {
   "cell_type": "code",
   "execution_count": 16,
   "metadata": {},
   "outputs": [
    {
     "data": {
      "text/plain": [
       "tensor(4., grad_fn=<SumBackward0>)"
      ]
     },
     "execution_count": 16,
     "metadata": {},
     "output_type": "execute_result"
    }
   ],
   "source": [
    "y = x.sum()\n",
    "y"
   ]
  },
  {
   "cell_type": "code",
   "execution_count": 17,
   "metadata": {},
   "outputs": [
    {
     "data": {
      "text/plain": [
       "<SumBackward0 at 0x2870162af98>"
      ]
     },
     "execution_count": 17,
     "metadata": {},
     "output_type": "execute_result"
    }
   ],
   "source": [
    "y.grad_fn"
   ]
  },
  {
   "cell_type": "code",
   "execution_count": 18,
   "metadata": {},
   "outputs": [
    {
     "data": {
      "text/plain": [
       "tensor([[1., 1.],\n",
       "        [1., 1.]])"
      ]
     },
     "execution_count": 18,
     "metadata": {},
     "output_type": "execute_result"
    }
   ],
   "source": [
    "y.backward()  # 反向傳播, 計算梯度\n",
    "\n",
    "# y = x.sum() = (x[0][0] + x[0][1] + x[1][0] + x[1][1])\n",
    "# 每個值的梯度都為 1\n",
    "x.grad"
   ]
  },
  {
   "cell_type": "markdown",
   "metadata": {},
   "source": [
    "<b><font color='darkred'>注意:</font></b> <i>grad</i> 在反向傳播過程中是累加的 (accumulated), 這表示每次執行反向傳播, 梯度都會累加之前的梯度, 所以反向傳播之前須把梯度歸零."
   ]
  },
  {
   "cell_type": "code",
   "execution_count": 19,
   "metadata": {},
   "outputs": [
    {
     "data": {
      "text/plain": [
       "tensor([[2., 2.],\n",
       "        [2., 2.]])"
      ]
     },
     "execution_count": 19,
     "metadata": {},
     "output_type": "execute_result"
    }
   ],
   "source": [
    "y.backward()\n",
    "x.grad"
   ]
  },
  {
   "cell_type": "code",
   "execution_count": 20,
   "metadata": {},
   "outputs": [
    {
     "data": {
      "text/plain": [
       "tensor([[0., 0.],\n",
       "        [0., 0.]])"
      ]
     },
     "execution_count": 20,
     "metadata": {},
     "output_type": "execute_result"
    }
   ],
   "source": [
    "# 以下操作是 inplace \n",
    "x.grad.data.zero_()"
   ]
  },
  {
   "cell_type": "code",
   "execution_count": 21,
   "metadata": {},
   "outputs": [
    {
     "data": {
      "text/plain": [
       "tensor([[1., 1.],\n",
       "        [1., 1.]])"
      ]
     },
     "execution_count": 21,
     "metadata": {},
     "output_type": "execute_result"
    }
   ],
   "source": [
    "y.backward() \n",
    "x.grad"
   ]
  },
  {
   "cell_type": "markdown",
   "metadata": {},
   "source": [
    "## <font color='darkblue'>神經網路</font>\n",
    "Autograd 實現了反向傳播功能, 但是直接用來寫深度學習的程式在很多情況下還是稍顯複雜, <b><a href='https://pytorch.org/docs/stable/nn.html'>torch.nn</a></b> 是專門為神經網路設計的模組化介面. nn 建置於 Autograd 之上, 可用來定義和執行神經網路. <b><a href='https://pytorch.org/docs/stable/nn.html#module'>nn.Module</a></b> 是 nn 中最重要的類別, 可以把它看作一個網路的封裝, 包含網路各層定義與 forward 方法, 呼叫 forward(input) 方法, 可傳回正向傳播的結果. 我們以最早的旋積神經網路 <a href='https://en.wikipedia.org/wiki/Convolutional_neural_network'>LeNet</a> 為例, 蘭看看如何用 <b><a href='https://pytorch.org/docs/stable/nn.html#module'>nn.Module</a></b> 實現. LeNet 的網路結構如下圖所示:\n",
    "![圖 2-7 LeNet 網路結構](images/F2-7.png)\n",
    "(Image source=https://medium.com/@pechyonkin/key-deep-learning-architectures-lenet-5-6fc3c59e6f4)\n",
    "\n",
    "這是一個基礎的正向傳播 (feed-forward) 網路: 接收輸入, 經過層層傳遞運算得到輸出.\n",
    "\n",
    "### <font color='darkgreen'>定義網路</font>\n",
    "定義網路時, 需要繼承 <b><a href='https://pytorch.org/docs/stable/nn.html#module'>nn.Module</a></b> 並實現它的 forward 方法, 把網路中具有可學習參數的層放在建置函數 <font color='blue'>__init__</font> 中. 如果某一層 (如 ReLU) 不具有可學習的參數, 則既可放在建置函數中, 也可以不放, 但這裡不建議放在其中, 而在 forward 中使用 <b><a href='https://pytorch.org/docs/stable/nn.html#torch-nn-functional'>nn.functional</a></b> 代替."
   ]
  },
  {
   "cell_type": "code",
   "execution_count": 22,
   "metadata": {},
   "outputs": [
    {
     "name": "stdout",
     "output_type": "stream",
     "text": [
      "Net(\n",
      "  (conv1): Conv2d(1, 6, kernel_size=(5, 5), stride=(1, 1))\n",
      "  (conv2): Conv2d(6, 16, kernel_size=(5, 5), stride=(1, 1))\n",
      "  (fc1): Linear(in_features=400, out_features=120, bias=True)\n",
      "  (fc2): Linear(in_features=120, out_features=84, bias=True)\n",
      "  (fc3): Linear(in_features=84, out_features=10, bias=True)\n",
      ")\n"
     ]
    }
   ],
   "source": [
    "import torch.nn as nn\n",
    "import torch.nn.functional as F\n",
    "\n",
    "class Net(nn.Module):\n",
    "    def __init__(self):\n",
    "        # nn.Module 子類別的函數必須在構造函數中執行父類別的構造函數\n",
    "        # 下式等值於 nn.Module.__init__(self)\n",
    "        super(Net, self).__init__()\n",
    "        \n",
    "        # 旋積層 '1' 表示輸入圖片為單通道, '6' 表示輸出通道, '5' 表示旋積核心為 5x5\n",
    "        self.conv1 = nn.Conv2d(1, 6, 5)\n",
    "        \n",
    "        # 旋積層\n",
    "        self.conv2 = nn.Conv2d(6, 16, 5)\n",
    "\n",
    "        # 訪設層/全連接層: y = Wx + b\n",
    "        self.fc1 = nn.Linear(16*5*5, 120)\n",
    "        self.fc2 = nn.Linear(120, 84)\n",
    "        self.fc3 = nn.Linear(84, 10)\n",
    "        \n",
    "    def forward(self, x):\n",
    "        # 旋積 -> 啟動 -> 池化\n",
    "        x = F.max_pool2d(F.relu(self.conv1(x)), (2, 2))\n",
    "        x = F.max_pool2d(F.relu(self.conv2(x)), 2)\n",
    "        \n",
    "        # reshape, '-1' means 自適應\n",
    "        x = x.view(x.size()[0], -1)\n",
    "        x = F.relu(self.fc1(x))\n",
    "        x = F.relu(self.fc2(x))\n",
    "        x = self.fc3(x)\n",
    "        return x\n",
    "    \n",
    "net = Net()\n",
    "print(net)"
   ]
  },
  {
   "cell_type": "markdown",
   "metadata": {},
   "source": [
    "只要在 nn.Module 的子類別中定義了 forward 函數, backward 函數就會被自動實現 (利用 Autograd). 在 forward 函數中可使用任何 Variable 支援的函數, 還可以使用 if/else 循環, print, log 等 Python 語法, 寫法和標準的 Python 寫法一致. 網路的可學習參數透過 net.parameters() 傳回, net.named_parameters 可同時傳回可學習參數及名稱."
   ]
  },
  {
   "cell_type": "code",
   "execution_count": 23,
   "metadata": {},
   "outputs": [
    {
     "name": "stdout",
     "output_type": "stream",
     "text": [
      "10\n"
     ]
    }
   ],
   "source": [
    "params = list(net.parameters())\n",
    "print(len(params))"
   ]
  },
  {
   "cell_type": "code",
   "execution_count": 24,
   "metadata": {},
   "outputs": [
    {
     "name": "stdout",
     "output_type": "stream",
     "text": [
      "conv1.weight: torch.Size([6, 1, 5, 5])\n",
      "conv1.bias: torch.Size([6])\n",
      "conv2.weight: torch.Size([16, 6, 5, 5])\n",
      "conv2.bias: torch.Size([16])\n",
      "fc1.weight: torch.Size([120, 400])\n",
      "fc1.bias: torch.Size([120])\n",
      "fc2.weight: torch.Size([84, 120])\n",
      "fc2.bias: torch.Size([84])\n",
      "fc3.weight: torch.Size([10, 84])\n",
      "fc3.bias: torch.Size([10])\n"
     ]
    }
   ],
   "source": [
    "for name, parameters in net.named_parameters():\n",
    "    print(\"{name}: {size}\".format(name=name, size=parameters.size()))"
   ]
  },
  {
   "cell_type": "markdown",
   "metadata": {},
   "source": [
    "forward 函數的輸入與輸出都是 Variable, 只有 Variable 才具有自動求導功能, Tensor 是沒有的, 所以在輸入時, 需要把 Tensor 封裝成 Varialbe:\n",
    "* <b><a href='https://pytorch.org/docs/stable/torch.html#torch.randn'>torch.randn</a></b>: Returns a tensor filled with random numbers from a normal distribution with mean 0 and variance 1 (also called the standard normal distribution)."
   ]
  },
  {
   "cell_type": "code",
   "execution_count": 25,
   "metadata": {},
   "outputs": [
    {
     "name": "stdout",
     "output_type": "stream",
     "text": [
      "inputs(torch.Size([1, 1, 32, 32])):\n",
      "tensor([[[[-0.6691,  0.7823,  0.9814,  ...,  1.6084,  2.2952,  0.1237],\n",
      "          [-1.5178, -0.1168, -0.3910,  ..., -0.2114,  0.5508, -0.3700],\n",
      "          [-0.1387,  0.8553, -0.7290,  ..., -1.0950,  0.4704, -0.5796],\n",
      "          ...,\n",
      "          [-0.9031, -0.2470,  1.7085,  ...,  0.0351, -1.7495, -0.2193],\n",
      "          [-1.3025, -0.1806,  1.2750,  ..., -1.6698, -0.0585,  0.4784],\n",
      "          [ 2.6715,  1.5011,  1.3606,  ...,  1.8064, -0.3572, -0.5274]]]])\n",
      "outs(torch.Size([1, 10])):\n",
      "tensor([[-0.0904, -0.0365, -0.0136,  0.0302,  0.0792, -0.0684, -0.0201,  0.1131,\n",
      "         -0.0998, -0.0569]], grad_fn=<AddmmBackward>)\n"
     ]
    }
   ],
   "source": [
    "inputs = Variable(t.randn(1, 1, 32, 32))\n",
    "print(\"inputs({}):\\n{}\".format(inputs.shape, inputs))\n",
    "outs = net(inputs)\n",
    "print(\"outs({}):\\n{}\".format(outs.shape, outs))"
   ]
  },
  {
   "cell_type": "code",
   "execution_count": 26,
   "metadata": {},
   "outputs": [
    {
     "name": "stdout",
     "output_type": "stream",
     "text": [
      "t.ones(1, 10):\n",
      "tensor([[1., 1., 1., 1., 1., 1., 1., 1., 1., 1.]])\n"
     ]
    }
   ],
   "source": [
    "net.zero_grad()  # 所有參數的梯度清除為零\n",
    "print(\"t.ones(1, 10):\\n{}\".format(t.ones(1, 10)))\n",
    "outs.backward(Variable(t.ones(1, 10)))  # 反向傳播"
   ]
  },
  {
   "cell_type": "markdown",
   "metadata": {},
   "source": [
    "需要注意的是, <b><a href='https://pytorch.org/docs/stable/nn.html'>torch.nn</a></b> 只支援 mini-batches, 不支援一次只輸入一個樣本, 及一次必須是一個 batch. 如果只想輸入一個樣本, 則用 inputs.unsqueeze(0) 將 batch_size 設為 1. 舉例來說, nn.Conv2d 輸入必須是四維的, 形如 <font color='blue'>nSamples x nChannels x Height x Width</font>. 可將 nSamples 設為 1, 及 <font color='blue'>1 x nChannels x Height x Width</font>.\n",
    "\n",
    "### <font color='darkgreen'>損失函數 </font>\n",
    "nn 實現了神經網路中大多數的損失函數, 例如 <a href='https://pytorch.org/docs/stable/nn.html#torch.nn.MSELoss'>nn.MSELoss</a> 用來計算 <b><a href='https://en.wikipedia.org/wiki/Mean_squared_error'>均方誤差</a></b>, <a href='https://pytorch.org/docs/stable/nn.html#torch.nn.CrossEntropyLoss'>nn.CrossEntropyLoss</a> 用來計算 <b><a href='https://en.wikipedia.org/wiki/Cross_entropy'>交換熵損失</a></b>."
   ]
  },
  {
   "cell_type": "code",
   "execution_count": 27,
   "metadata": {},
   "outputs": [
    {
     "name": "stdout",
     "output_type": "stream",
     "text": [
      "target=tensor([0., 1., 2., 3., 4., 5., 6., 7., 8., 9.])\n"
     ]
    },
    {
     "data": {
      "text/plain": [
       "tensor(28.6323, grad_fn=<MseLossBackward>)"
      ]
     },
     "execution_count": 27,
     "metadata": {},
     "output_type": "execute_result"
    }
   ],
   "source": [
    "outputs = net(inputs)\n",
    "target = Variable(t.arange(0, 10, dtype=t.float))\n",
    "print(\"target={}\".format(target))\n",
    "criterion = nn.MSELoss()\n",
    "loss = criterion(outputs, target)\n",
    "loss"
   ]
  },
  {
   "cell_type": "markdown",
   "metadata": {},
   "source": [
    "如果對 <i>loss</i> 進行反向傳播溯源 (使用 grd_fn 屬性), 可以看到它的計算圖如下:\n",
    "\n",
    "當呼叫 loss.background() 時, 該圖會動態產生並自動微分, 也會自動計算圖中參數的導數."
   ]
  },
  {
   "cell_type": "code",
   "execution_count": 28,
   "metadata": {},
   "outputs": [
    {
     "name": "stdout",
     "output_type": "stream",
     "text": [
      "Before 反向傳播之前 conv1.bias 的梯度:\n",
      "tensor([0., 0., 0., 0., 0., 0.])\n",
      "Before 反向傳播之後 conv1.bias 的梯度:\n",
      "tensor([ 0.0986, -0.0321,  0.0026,  0.0501, -0.0223, -0.0178])\n"
     ]
    }
   ],
   "source": [
    "# 運行 .backward, 觀察呼叫之前和呼叫之後的 grad\n",
    "net.zero_grad()  # 把之前 net 中所有可學習參數的梯度歸零\n",
    "print(\"Before 反向傳播之前 conv1.bias 的梯度:\")\n",
    "print(net.conv1.bias.grad)\n",
    "loss.backward()\n",
    "print(\"Before 反向傳播之後 conv1.bias 的梯度:\")\n",
    "print(net.conv1.bias.grad)"
   ]
  },
  {
   "cell_type": "markdown",
   "metadata": {},
   "source": [
    "### <font color='darkgreen'>最佳化器</font>\n",
    "在反向傳播計算完所有參數的梯度後, 還需要使用最佳化方法更新網路的加權和參數. 舉例來說, <b><a href='https://en.wikipedia.org/wiki/Stochastic_gradient_descent'>隨機梯度下降法</a></b> (SGD) 的更新策略如下:<br/>\n",
    "weight = weight - learning_rate * gradient<br/>\n",
    "<br/>\n",
    "手動實現如下:"
   ]
  },
  {
   "cell_type": "code",
   "execution_count": 29,
   "metadata": {},
   "outputs": [],
   "source": [
    "learning_rate = 0.01\n",
    "for f in net.parameters():\n",
    "    f.data.sub_(f.grad.data * learning_rate)  # inplace 減法"
   ]
  },
  {
   "cell_type": "markdown",
   "metadata": {},
   "source": [
    "<b><a href='https://pytorch.org/docs/stable/optim.html'>torch.optim</a></b> 中實現了深度學習中絕大多數的最佳方法, 例如 RMSProp, Adam, SGD 等, 更便於使用, 因此通常並不需要手動實作它們."
   ]
  },
  {
   "cell_type": "code",
   "execution_count": 30,
   "metadata": {},
   "outputs": [],
   "source": [
    "import torch.optim as optim\n",
    "\n",
    "# 新建一個優化器, 指定要調整的參數和學習率\n",
    "optimizer = optim.SGD(net.parameters(), lr=0.01)\n",
    "\n",
    "# 在訓練過程中, 先將梯度歸零 \n",
    "optimizer.zero_grad()\n",
    "\n",
    "# 計算損失\n",
    "outputs = net(inputs)\n",
    "loss = criterion(outputs, target)\n",
    "\n",
    "# 反向傳播\n",
    "loss.backward()\n",
    "\n",
    "# 更新參數\n",
    "optimizer.step()"
   ]
  },
  {
   "cell_type": "markdown",
   "metadata": {},
   "source": [
    "### <font color='darkgreen'>資料載入與前置處理</font>\n",
    "在深度學習中資料載入及前置處理是非常複雜繁瑣的, 但 PyTorch 提供了一些可極大化簡化和加快資料處理流程的工具. 同時常用的資料集, PyTorch 也提供了封裝好的API 提供使用者快速呼叫, 這些資料集住要儲存在 torchversion 中.\n",
    "\n",
    "torchversion 實現了常用的圖像資料載入功能, 例如 Imagenet, CIFAR10, MNIST 等, 以及常用的資料轉換操作, 這相當大地方便資料載入.\n",
    "\n",
    "## <font color='darkblue'>小試牛刀: CIFAR-10 分類 </font>\n",
    "下面我們來嘗試實現對 <b><a href='https://en.wikipedia.org/wiki/CIFAR-10'>CIFAR-10</a></b> 資料集的分類, 步驟如下:\n",
    "1. 使用 torchversion 載入並前置處理 CIFAR-10 資料集\n",
    "2. 定義網路\n",
    "3. 定義損失函數與最佳化器\n",
    "4. 訓練網路並更新網路參數\n",
    "5. 測試網路\n",
    "\n",
    "### <font color='darkgreen'>CIFAR-10 資料載入及前置處理</font>\n",
    "CIFAR-10 是一個常用的彩色圖片資料集, 它有十個類別 airplane, automobile, bird, cat, deer, dog, frog, horse, ship 和 trunk. 每個圖片都是 3 x 32 x 32, 即 3 通道彩色圖片, 解析度為 32 x 32"
   ]
  },
  {
   "cell_type": "code",
   "execution_count": 83,
   "metadata": {},
   "outputs": [
    {
     "name": "stdout",
     "output_type": "stream",
     "text": [
      "Files already downloaded and verified\n"
     ]
    }
   ],
   "source": [
    "import torchvision as tv\n",
    "import torchvision.transforms as transforms\n",
    "from torchvision.transforms import ToPILImage\n",
    "\n",
    "show = ToPILImage() # 把 Tensor 轉成 Image 以方便可視化\n",
    "\n",
    "# 第一次運行程式 torchversion 會自動下載 CIFAR-10 資料集\n",
    "# 大約 100 MB, 需花費一點時間.\n",
    "# 如果已經曾經下載 CIFAR-10, 可通過 root 參數指定路徑\n",
    "\n",
    "# 定義對資料的預處理\n",
    "# https://pytorch.org/docs/stable/torchvision/transforms.html#torchvision.transforms.Normalize\n",
    "transform = transforms.Compose([\n",
    "    transforms.ToTensor(),  # 轉成 Tensor\n",
    "    transforms.Normalize((0.5, 0.5, 0.5), (0.5, 0.5, 0.5))\n",
    "])\n",
    "\n",
    "# 訓練集\n",
    "trainset = tv.datasets.CIFAR10(\n",
    "    root='C:\\\\tmp\\\\pytorch_data',\n",
    "    train=True,\n",
    "    download=True,\n",
    "    transform=transform\n",
    ")\n",
    "\n",
    "trainloader = t.utils.data.DataLoader(\n",
    "    trainset,\n",
    "    batch_size=4,\n",
    "    shuffle=True,\n",
    "    num_workers=2\n",
    ")"
   ]
  },
  {
   "cell_type": "code",
   "execution_count": 84,
   "metadata": {},
   "outputs": [
    {
     "name": "stdout",
     "output_type": "stream",
     "text": [
      "Files already downloaded and verified\n"
     ]
    }
   ],
   "source": [
    "# 測試集\n",
    "testset = tv.datasets.CIFAR10(\n",
    "    root='C:\\\\tmp\\\\pytorch_data',\n",
    "    train=False,\n",
    "    download=True,\n",
    "    transform=transform\n",
    ")\n",
    "\n",
    "testloader = t.utils.data.DataLoader(\n",
    "    testset,\n",
    "    batch_size=4,\n",
    "    shuffle=False,\n",
    "    num_workers=2\n",
    ")"
   ]
  },
  {
   "cell_type": "markdown",
   "metadata": {},
   "source": [
    "Dataset 物件是一個資料集, 可以按索引存取, 傳回 tuple(data, label) 的資料格式:"
   ]
  },
  {
   "cell_type": "code",
   "execution_count": 85,
   "metadata": {},
   "outputs": [
    {
     "name": "stdout",
     "output_type": "stream",
     "text": [
      "trainset=<class 'torchvision.datasets.cifar.CIFAR10'>\n",
      "trainset[30] is plane:\n"
     ]
    },
    {
     "data": {
      "image/png": "[encoded data removed]",
      "text/plain": [
       "<PIL.Image.Image image mode=RGB size=50x50 at 0x2873045B400>"
      ]
     },
     "execution_count": 85,
     "metadata": {},
     "output_type": "execute_result"
    }
   ],
   "source": [
    "print(\"trainset={}\".format(trainset.__class__))\n",
    "classes = ['plane', 'car', 'bird', 'cat', 'deer', 'dog', 'frog', 'horse', 'ship', 'truck']\n",
    "\n",
    "row = 30\n",
    "(data, label) = trainset[row]\n",
    "\n",
    "# (data + 1) / 2 是為了還原被 Normalized 的資料\n",
    "print(\"trainset[{}] is {}:\".format(row, classes[label]))\n",
    "show((data+1)/2).resize((50, 50))"
   ]
  },
  {
   "cell_type": "markdown",
   "metadata": {},
   "source": [
    "Dataloader 是一個可替換的物件, 它將 dataset 傳回的每一筆資料樣本連接成一個 batch, 並提供多執行緒加速最佳化和資料 shuffle 等操作. 當程式對 dataset 的所有資料檢查完一遍後, 對 Dataloader 也完成了一次循環."
   ]
  },
  {
   "cell_type": "code",
   "execution_count": 86,
   "metadata": {},
   "outputs": [
    {
     "name": "stdout",
     "output_type": "stream",
     "text": [
      "horse        cat          deer         cat         \n"
     ]
    },
    {
     "data": {
      "image/png": "[encoded data removed]",
      "text/plain": [
       "<PIL.Image.Image image mode=RGB size=400x100 at 0x2871D8E4F60>"
      ]
     },
     "execution_count": 86,
     "metadata": {},
     "output_type": "execute_result"
    }
   ],
   "source": [
    "dataiter = iter(trainloader)\n",
    "images, labels = dataiter.next() # 返回四張圖片及標籤\n",
    "print(' '.join(list(map(lambda label: \"{:12s}\".format(classes[label]), labels))))\n",
    "show(tv.utils.make_grid((images+1)/2)).resize((400, 100))"
   ]
  },
  {
   "cell_type": "markdown",
   "metadata": {},
   "source": [
    "### <font color='darkgreen'>定義網路</font>\n",
    "複製上面的 LeNet 網路, 修改 <font color='blue'>self.conv1</font> 中第一個參數為 3 通道, 因為 <b><a href='https://en.wikipedia.org/wiki/CIFAR-10'>CIFAR-10</a></b> 是 3 通道彩圖."
   ]
  },
  {
   "cell_type": "code",
   "execution_count": 87,
   "metadata": {},
   "outputs": [
    {
     "name": "stdout",
     "output_type": "stream",
     "text": [
      "Net(\n",
      "  (conv1): Conv2d(3, 6, kernel_size=(5, 5), stride=(1, 1))\n",
      "  (conv2): Conv2d(6, 16, kernel_size=(5, 5), stride=(1, 1))\n",
      "  (fc1): Linear(in_features=400, out_features=120, bias=True)\n",
      "  (fc2): Linear(in_features=120, out_features=84, bias=True)\n",
      "  (fc3): Linear(in_features=84, out_features=10, bias=True)\n",
      ")\n"
     ]
    }
   ],
   "source": [
    "import torch.nn as nn\n",
    "import torch.nn.functional as F\n",
    "\n",
    "class Net(nn.Module):\n",
    "    def __init__(self):\n",
    "        # nn.Module 子類別的函數必須在構造函數中執行父類別的構造函數\n",
    "        # 下式等值於 nn.Module.__init__(self)\n",
    "        super(Net, self).__init__()\n",
    "        \n",
    "        # 旋積層 '3' 表示輸入圖片為 3彩通道, '6' 表示輸出通道, '5' 表示旋積核心為 5x5\n",
    "        self.conv1 = nn.Conv2d(3, 6, 5)\n",
    "        \n",
    "        # 旋積層\n",
    "        self.conv2 = nn.Conv2d(6, 16, 5)\n",
    "\n",
    "        # 訪設層/全連接層: y = Wx + b\n",
    "        self.fc1 = nn.Linear(16*5*5, 120)\n",
    "        self.fc2 = nn.Linear(120, 84)\n",
    "        self.fc3 = nn.Linear(84, 10)\n",
    "        \n",
    "    def forward(self, x):\n",
    "        # 旋積 -> 啟動 -> 池化\n",
    "        x = F.max_pool2d(F.relu(self.conv1(x)), (2, 2))\n",
    "        x = F.max_pool2d(F.relu(self.conv2(x)), 2)\n",
    "        \n",
    "        # reshape, '-1' means 自適應\n",
    "        x = x.view(x.size()[0], -1)\n",
    "        x = F.relu(self.fc1(x))\n",
    "        x = F.relu(self.fc2(x))\n",
    "        x = self.fc3(x)\n",
    "        return x\n",
    "    \n",
    "net = Net()\n",
    "print(net)"
   ]
  },
  {
   "cell_type": "markdown",
   "metadata": {},
   "source": [
    "### <font color='darkgreen'>定義損失函數和最佳化器</font>\n"
   ]
  },
  {
   "cell_type": "code",
   "execution_count": 88,
   "metadata": {},
   "outputs": [],
   "source": [
    "from torch import optim\n",
    "\n",
    "# https://en.wikipedia.org/wiki/Cross_entropy\n",
    "criterion = nn.CrossEntropyLoss() \n",
    "\n",
    "# https://pytorch.org/docs/master/optim.html\n",
    "# https://pytorch.org/docs/stable/optim.html#torch.optim.SGD\n",
    "optimizer = optim.SGD(net.parameters(), lr=0.001, momentum=0.9)"
   ]
  },
  {
   "cell_type": "markdown",
   "metadata": {},
   "source": [
    "### <font color='darkgreen'>訓練網路</font>\n",
    "所有網路的訓練流程都是類似的, 不斷地執行以下流程:\n",
    "* 輸入資料\n",
    "* 正向傳播 + 反向傳播\n",
    "* 更新參數"
   ]
  },
  {
   "cell_type": "code",
   "execution_count": 89,
   "metadata": {},
   "outputs": [
    {
     "name": "stdout",
     "output_type": "stream",
     "text": [
      "[1, 2,000] loss: 2.182\n",
      "[1, 4,000] loss: 1.869\n",
      "[1, 6,000] loss: 1.696\n",
      "[1, 8,000] loss: 1.606\n",
      "[1, 10,000] loss: 1.550\n",
      "[1, 12,000] loss: 1.485\n",
      "[2, 2,000] loss: 1.425\n",
      "[2, 4,000] loss: 1.371\n",
      "[2, 6,000] loss: 1.378\n",
      "[2, 8,000] loss: 1.356\n",
      "[2, 10,000] loss: 1.325\n",
      "[2, 12,000] loss: 1.308\n",
      "Finished Training! (0:01:57.406897)\n"
     ]
    }
   ],
   "source": [
    "from datetime import datetime\n",
    "\n",
    "st = datetime.now()\n",
    "for epoch in range(2):\n",
    "    running_loss = 0.0\n",
    "    for i, data in enumerate(trainloader, 0):\n",
    "        # 輸入資料\n",
    "        inputs, labels = data\n",
    "        inputs, labels = Variable(inputs), Variable(labels)\n",
    "        \n",
    "        # 初始梯度\n",
    "        optimizer.zero_grad()\n",
    "        \n",
    "        # forward + backward\n",
    "        outputs = net(inputs)\n",
    "        loss = criterion(outputs, labels)\n",
    "        loss.backward()\n",
    "        \n",
    "        # 更新參數\n",
    "        optimizer.step()\n",
    "        \n",
    "        # 列印 log 信息\n",
    "        running_loss += loss.data\n",
    "        if (i+1) % 2000 == 0:  # 每 2000 個 batch 列印一次訓練狀態\n",
    "            print(\"[{:,d}, {:5,d}] loss: {:.03f}\".format(epoch + 1, i + 1, running_loss / 2000))\n",
    "            \n",
    "            running_loss = 0.0\n",
    "            \n",
    "print(\"Finished Training! ({})\".format(datetime.now() - st))"
   ]
  },
  {
   "cell_type": "markdown",
   "metadata": {},
   "source": [
    "此處僅訓練了 2 個 epoch (檢查完一遍資料集稱為一個 epoch), 我們來看看訓練過後的網路的效果. 接著我們將測試圖片輸入網路並計算出它的 label, 然後與實際的 label 進行比較."
   ]
  },
  {
   "cell_type": "code",
   "execution_count": 90,
   "metadata": {},
   "outputs": [
    {
     "name": "stdout",
     "output_type": "stream",
     "text": [
      "Real Label:\n",
      "cat          ship         ship         plane       \n",
      "\n"
     ]
    },
    {
     "data": {
      "image/png": "[encoded data removed]",
      "text/plain": [
       "<PIL.Image.Image image mode=RGB size=400x100 at 0x287172739B0>"
      ]
     },
     "execution_count": 90,
     "metadata": {},
     "output_type": "execute_result"
    }
   ],
   "source": [
    "dataiter = iter(testloader)\n",
    "images, labels = dataiter.next() # 一個 batch 返回 4 張圖片\n",
    "\n",
    "print(\"Real Label:\\n{}\\n\".format(' '.join(list(map(lambda label: \"{:12s}\".format(classes[label]), labels)))))\n",
    "show(tv.utils.make_grid((images+1)/2)).resize((400, 100))"
   ]
  },
  {
   "cell_type": "markdown",
   "metadata": {},
   "source": [
    "接著計算網路預測的 label:"
   ]
  },
  {
   "cell_type": "code",
   "execution_count": 91,
   "metadata": {},
   "outputs": [
    {
     "name": "stdout",
     "output_type": "stream",
     "text": [
      "Prediction:\n",
      "cat          ship         ship         plane       \n",
      "\n"
     ]
    }
   ],
   "source": [
    "# 計算圖片在每個類別上的分數\n",
    "outputs = net(Variable(images))\n",
    "\n",
    "# 取出得分最高的類別\n",
    "# https://pytorch.org/docs/stable/torch.html#torch.max\n",
    "score_tensor, label_tensor = t.max(outputs.data, 1)\n",
    "print(\"Prediction:\\n{}\\n\".format(' '.join(list(map(lambda label: \"{:12s}\".format(classes[label]), labels)))))"
   ]
  },
  {
   "cell_type": "markdown",
   "metadata": {},
   "source": [
    "上面只是其中一個 batch 的結果, 我們來看看在整個測試集上的效果:"
   ]
  },
  {
   "cell_type": "code",
   "execution_count": 92,
   "metadata": {},
   "outputs": [
    {
     "name": "stdout",
     "output_type": "stream",
     "text": [
      "10000 張測試視集中的準確率為: 52.00%\n"
     ]
    }
   ],
   "source": [
    "correct = 0 # 預測正確的圖片數\n",
    "total = 0  # 總共的圖片數\n",
    "\n",
    "for data in testloader:\n",
    "    # labels.size=torch.Size([4])\n",
    "    images, labels = data\n",
    "    outputs = net(Variable(images))\n",
    "    _, predicted = t.max(outputs.data, 1)\n",
    "    total += labels.size(0)\n",
    "    correct += (predicted == labels).sum()\n",
    "    \n",
    "print(\"{} 張測試視集中的準確率為: {:.02f}%\".format(total, 100 * correct / total))"
   ]
  },
  {
   "cell_type": "markdown",
   "metadata": {},
   "source": [
    "### <font color='darkgreen'>在 GPU 上訓練</font>\n",
    "就像之前把 Tensor 從 CPU 轉到 GPU 一樣, 模型也可以類似地從 CPU 轉到 GPU:"
   ]
  },
  {
   "cell_type": "code",
   "execution_count": 61,
   "metadata": {},
   "outputs": [
    {
     "name": "stdout",
     "output_type": "stream",
     "text": [
      "Using GPU\n"
     ]
    }
   ],
   "source": [
    "if t.cuda.is_available():\n",
    "    print(\"Using GPU\")\n",
    "    net.cuda()\n",
    "    images = images.cuda()\n",
    "    labels = labels.cuda()\n",
    "    output = net(Variable(images))\n",
    "    loss = criterion(output, Variable(labels))"
   ]
  },
  {
   "cell_type": "code",
   "execution_count": 82,
   "metadata": {},
   "outputs": [
    {
     "name": "stdout",
     "output_type": "stream",
     "text": [
      "Using GPU\n",
      "[1, 2,000] loss: 2.308\n",
      "[1, 4,000] loss: 2.308\n",
      "[1, 6,000] loss: 2.309\n",
      "[1, 8,000] loss: 2.308\n",
      "[1, 10,000] loss: 2.309\n",
      "[1, 12,000] loss: 2.309\n",
      "[2, 2,000] loss: 2.307\n",
      "[2, 4,000] loss: 2.308\n",
      "[2, 6,000] loss: 2.308\n",
      "[2, 8,000] loss: 2.310\n",
      "[2, 10,000] loss: 2.308\n",
      "[2, 12,000] loss: 2.309\n",
      "Finished Training! (0:02:33.147174)\n"
     ]
    }
   ],
   "source": [
    "from datetime import datetime\n",
    "\n",
    "if t.cuda.is_available():\n",
    "    print(\"Using GPU\")\n",
    "    net.cuda()    \n",
    "    optimizer = optim.SGD(net.parameters(), lr=0.01, momentum=0.9)    \n",
    "    #optimizer = optim.Adam(net.parameters(), lr=0.01)    \n",
    "    \n",
    "\n",
    "st = datetime.now()\n",
    "for epoch in range(2):\n",
    "    running_loss = 0.0\n",
    "    for i, data in enumerate(trainloader, 0):\n",
    "        # 輸入資料\n",
    "        inputs, labels = data\n",
    "        inputs, labels = Variable(inputs), Variable(labels)\n",
    "        \n",
    "        if t.cuda.is_available():\n",
    "            inputs = inputs.cuda()\n",
    "            labels = labels.cuda()\n",
    "        \n",
    "        # 初始梯度\n",
    "        optimizer.zero_grad()\n",
    "        \n",
    "        # forward + backward\n",
    "        outputs = net(inputs)\n",
    "        loss = criterion(outputs, labels)\n",
    "        loss.backward()\n",
    "        \n",
    "        # 更新參數\n",
    "        optimizer.step()\n",
    "        \n",
    "        # 列印 log 信息\n",
    "        running_loss += loss.data\n",
    "        if (i+1) % 2000 == 0:  # 每 2000 個 batch 列印一次訓練狀態\n",
    "            print(\"[{:,d}, {:5,d}] loss: {:.03f}\".format(epoch + 1, i + 1, running_loss / 2000))\n",
    "            \n",
    "            running_loss = 0.0\n",
    "            \n",
    "print(\"Finished Training! ({})\".format(datetime.now() - st))"
   ]
  },
  {
   "cell_type": "code",
   "execution_count": 80,
   "metadata": {},
   "outputs": [
    {
     "name": "stdout",
     "output_type": "stream",
     "text": [
      "10000 張測試視集中的準確率為: 10.00%\n"
     ]
    }
   ],
   "source": [
    "correct = 0 # 預測正確的圖片數\n",
    "total = 0  # 總共的圖片數\n",
    "\n",
    "for data in testloader:\n",
    "    # labels.size=torch.Size([4])\n",
    "    images, labels = data\n",
    "    if t.cuda.is_available():\n",
    "        images = images.cuda()\n",
    "        labels = labels.cuda()\n",
    "        \n",
    "    outputs = net(Variable(images))\n",
    "    _, predicted = t.max(outputs.data, 1)\n",
    "    total += labels.size(0)\n",
    "    correct += (predicted == labels).sum()\n",
    "    \n",
    "print(\"{} 張測試視集中的準確率為: {:.02f}%\".format(total, 100 * correct / total))"
   ]
  },
  {
   "cell_type": "markdown",
   "metadata": {},
   "source": [
    "## <font color='darkblue'>Supplement </font>\n",
    "* <a href='https://pytorch.org/tutorials/beginner/blitz/tensor_tutorial.html#sphx-glr-beginner-blitz-tensor-tutorial-py'>PyTorch Tutorials >  Deep Learning with PyTorch: A 60 Minute Blitz > What is PyTorch?</a>\n",
    "* <a href='https://mropengate.blogspot.com/2017/02/deep-learning-role-of-activation.html'>深度學習：使用激勵函數的目的、如何選擇激勵函數 Deep Learning</a>\n",
    "* <a href='https://www.youtube.com/watch?v=tRsSi_sqXjI'>Udacity - Cross Entropy</a>\n",
    "* <a href='https://www.youtube.com/watch?v=ErfnhcEV1O8&t=4s'>A Short Introduction to Entropy, Cross-Entropy and KL-Divergence</a>\n",
    "* <a href='https://medium.com/%E9%9B%9E%E9%9B%9E%E8%88%87%E5%85%94%E5%85%94%E7%9A%84%E5%B7%A5%E7%A8%8B%E4%B8%96%E7%95%8C/%E6%A9%9F%E5%99%A8%E5%AD%B8%E7%BF%92ml-note-sgd-momentum-adagrad-adam-optimizer-f20568c968db'>SGD, Momentum, AdaGrad, Adam Optimizer</a>\n",
    "<img src='https://cdn-images-1.medium.com/max/1600/1*U0IT4yJReyPibVI43j38cQ.png'/>\n",
    "* <a href='https://medium.com/@Linpingyu/identify-passenger-jets-in-seconds-using-pytorch-ddba993fa21d'>Classify Passenger Jets Using PyTorch</a>"
   ]
  }
 ],
 "metadata": {
  "kernelspec": {
   "display_name": "Python 3",
   "language": "python",
   "name": "python3"
  },
  "language_info": {
   "codemirror_mode": {
    "name": "ipython",
    "version": 3
   },
   "file_extension": ".py",
   "mimetype": "text/x-python",
   "name": "python",
   "nbconvert_exporter": "python",
   "pygments_lexer": "ipython3",
   "version": "3.6.7"
  }
 },
 "nbformat": 4,
 "nbformat_minor": 2
}
